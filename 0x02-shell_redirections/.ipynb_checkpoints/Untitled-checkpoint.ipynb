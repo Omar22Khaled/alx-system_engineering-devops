{
 "cells": [
  {
   "cell_type": "code",
   "execution_count": 18,
   "id": "2b279aba",
   "metadata": {},
   "outputs": [
    {
     "name": "stdout",
     "output_type": "stream",
     "text": [
      "As he crossed toward the pharmacy at the corner he involuntarily turned his head because of a burst of light that had ricocheted from his temple, and saw, with that quick smile with which we greet a rainbow or a rose, a blindingly white parallelogram of sky being unloaded from the van—a dresser with mirrors across which, as across a cinema screen, passed a flawlessly clear reflection of boughs sliding and swaying not arboreally, but with a human vacillation, produced by the nature of those who were carrying this sky, these boughs, this gliding façade\n"
     ]
    }
   ],
   "source": [
    "text = \"As he crossed toward the pharmacy at the corner he involuntarily turned his head because of a burst of light that had ricocheted from his temple, and saw, with that quick smile with which we greet a rainbow or a rose, a blindingly white parallelogram of sky being unloaded from the van—a dresser with mirrors across which, as across a cinema screen, passed a flawlessly clear reflection of boughs sliding and swaying not arboreally, but with a human vacillation, produced by the nature of those who were carrying this sky, these boughs, this gliding façade\"\n",
    "print(text)"
   ]
  },
  {
   "cell_type": "code",
   "execution_count": 19,
   "id": "00a34cc3",
   "metadata": {},
   "outputs": [
    {
     "name": "stdout",
     "output_type": "stream",
     "text": [
      "\n",
      "As he crossed toward the pharmacy at the corner \n",
      "he involuntarily turned his head because of a burst \n",
      "of light that had ricocheted from his temple, and saw, \n",
      "with that quick smile with which we greet a rainbow or a rose, \n",
      "a blindingly white parallelogram of sky being unloaded from \n",
      "the van—a dresser with mirrors across which, as across a \n",
      "cinema screen, passed a flawlessly clear reflection of \n",
      "boughs sliding and swaying not arboreally, but with a \n",
      "human vacillation, produced by the nature of those who \n",
      "were carrying this sky, these boughs, this gliding façade\n",
      "\n"
     ]
    }
   ],
   "source": [
    "text = \"\"\"\n",
    "As he crossed toward the pharmacy at the corner \n",
    "he involuntarily turned his head because of a burst \n",
    "of light that had ricocheted from his temple, and saw, \n",
    "with that quick smile with which we greet a rainbow or a rose, \n",
    "a blindingly white parallelogram of sky being unloaded from \n",
    "the van—a dresser with mirrors across which, as across a \n",
    "cinema screen, passed a flawlessly clear reflection of \n",
    "boughs sliding and swaying not arboreally, but with a \n",
    "human vacillation, produced by the nature of those who \n",
    "were carrying this sky, these boughs, this gliding façade\n",
    "\"\"\"\n",
    "print(text)"
   ]
  },
  {
   "cell_type": "code",
   "execution_count": 23,
   "id": "f8340cc8",
   "metadata": {},
   "outputs": [
    {
     "name": "stdout",
     "output_type": "stream",
     "text": [
      "As he crossed toward the pharmacy at the corner he involuntarily turned his head because of a burst of light that had ricocheted from his temple, and saw, with that quick smile with which we greet a rainbow or a rose, a blindingly white parallelogram of sky being unloaded from the van—a dresser with mirrors across which, as across a cinema screen, passed a flawlessly clear reflection of boughs sliding and swaying not arboreally, but with a human vacillation, produced by the nature of those who were carrying this sky, these boughs, this gliding façade\n"
     ]
    }
   ],
   "source": [
    "text = \"As he crossed toward the pharmacy at the corner \\\n",
    "he involuntarily turned his head because of a burst \\\n",
    "of light that had ricocheted from his temple, and saw, \\\n",
    "with that quick smile with which we greet a rainbow or a rose, \\\n",
    "a blindingly white parallelogram of sky being unloaded from \\\n",
    "the van—a dresser with mirrors across which, as across a \\\n",
    "cinema screen, passed a flawlessly clear reflection of \\\n",
    "boughs sliding and swaying not arboreally, but with a \\\n",
    "human vacillation, produced by the nature of those who \\\n",
    "were carrying this sky, these boughs, this gliding façade\"\n",
    "print(text)"
   ]
  },
  {
   "cell_type": "code",
   "execution_count": 25,
   "id": "9b519f53",
   "metadata": {},
   "outputs": [
    {
     "ename": "SyntaxError",
     "evalue": "unterminated string literal (detected at line 1) (2709965975.py, line 1)",
     "output_type": "error",
     "traceback": [
      "\u001b[0;36m  Cell \u001b[0;32mIn[25], line 1\u001b[0;36m\u001b[0m\n\u001b[0;31m    text = \"This is a simple\u001b[0m\n\u001b[0m           ^\u001b[0m\n\u001b[0;31mSyntaxError\u001b[0m\u001b[0;31m:\u001b[0m unterminated string literal (detected at line 1)\n"
     ]
    }
   ],
   "source": [
    "text = \"This is a simple \n",
    "python string\"\n",
    "\n",
    "print(text)"
   ]
  },
  {
   "cell_type": "code",
   "execution_count": 26,
   "id": "0e3b2054",
   "metadata": {},
   "outputs": [
    {
     "name": "stdout",
     "output_type": "stream",
     "text": [
      "This is a simple python string\n"
     ]
    }
   ],
   "source": [
    "text = \"This is a simple \\\n",
    "python string\"\n",
    "\n",
    "print(text)"
   ]
  },
  {
   "cell_type": "code",
   "execution_count": null,
   "id": "f37b1faa",
   "metadata": {},
   "outputs": [],
   "source": []
  }
 ],
 "metadata": {
  "kernelspec": {
   "display_name": "Python 3 (ipykernel)",
   "language": "python",
   "name": "python3"
  },
  "language_info": {
   "codemirror_mode": {
    "name": "ipython",
    "version": 3
   },
   "file_extension": ".py",
   "mimetype": "text/x-python",
   "name": "python",
   "nbconvert_exporter": "python",
   "pygments_lexer": "ipython3",
   "version": "3.10.9"
  }
 },
 "nbformat": 4,
 "nbformat_minor": 5
}
